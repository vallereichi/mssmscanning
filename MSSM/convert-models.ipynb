{
 "cells": [
  {
   "cell_type": "code",
   "execution_count": 2,
   "id": "24bab446",
   "metadata": {},
   "outputs": [],
   "source": [
    "import numpy as np"
   ]
  },
  {
   "cell_type": "code",
   "execution_count": 3,
   "id": "fcdf33f1",
   "metadata": {},
   "outputs": [],
   "source": [
    "# current GAMBIT configuration\n",
    "mssm7 = {\n",
    "    \"Qin\": 1000,\n",
    "    \"SignMu\": 1,\n",
    "    \"TanBeta\": [3, 70],\n",
    "    \"mHu2\": [-3e6, 1000],\n",
    "    \"mHd2\": [-1000, 3e6],\n",
    "    \"M2\": [-1e4, 1e4],\n",
    "    \"mf2\": [0, 1e7],\n",
    "    \"Ad_3\": [-1e4, 1e4],\n",
    "    \"Au_3\": [-1e4, 1e4],\n",
    "}"
   ]
  },
  {
   "cell_type": "code",
   "execution_count": 4,
   "id": "a25a74eb",
   "metadata": {},
   "outputs": [],
   "source": [
    "def print_df(df: dict[str, float | list[float]]):\n",
    "    for key in df.keys():\n",
    "        print(f\"{key}: {str(df[key])}\")"
   ]
  },
  {
   "cell_type": "code",
   "execution_count": 5,
   "id": "79f2d953",
   "metadata": {},
   "outputs": [],
   "source": [
    "# define model conversion function for MSSM7atQ --> MSSM19atQ\n",
    "def convert_model(\n",
    "        input_df: dict[str, float | list[float]]\n",
    "        ) -> dict[str, float | list[float]]:\n",
    "    # copy input_df to keep none changing parameters\n",
    "    output_df = input_df.copy()\n",
    "\n",
    "    # declare SM parameters needed for conversion\n",
    "    alphainv = 1.27950000e2\n",
    "    GF = 1.16637870e-5\n",
    "    mZ = 9.11876000e1\n",
    "    alphaS = 1.18100000e-1\n",
    "\n",
    "    # MSSM7atQ --> MSSM9atQ\n",
    "    sin2thetaW_tree = 0.5 - np.sqrt(0.25 - np.pi / (np.sqrt(2)* mZ * mZ * alphainv * GF))\n",
    "    M1 = []\n",
    "    M2 = []\n",
    "    for i in range(len(input_df[\"M2\"])):\n",
    "        M1.append(float(input_df[\"M2\"][i] * 5/3 * sin2thetaW_tree / (1 - sin2thetaW_tree)))\n",
    "        M2.append(float(input_df[\"M2\"][i] * alphaS * alphainv * sin2thetaW_tree))\n",
    "    output_df[\"M1\"] = M1\n",
    "    output_df[\"M3\"] = M2\n",
    "\n",
    "    # MSSM9atQ --> MSSM10atQ\n",
    "    output_df[\"mq2\"] = input_df[\"mf2\"]\n",
    "    output_df[\"ml2\"] = input_df[\"mf2\"]\n",
    "\n",
    "    # MSSM10atQ --> MSSM11atQ\n",
    "    output_df[\"Ae_3\"] = 0\n",
    "\n",
    "    # MSSM11atQ --> MSSM16atQ\n",
    "    output_df[\"mq2_12\"] = output_df[\"mq2\"]\n",
    "    output_df[\"mq2_3\"] = output_df[\"mq2\"]\n",
    "    output_df[\"mu2_12\"] = output_df[\"mq2\"]\n",
    "    output_df[\"md2_12\"] = output_df[\"mq2\"]\n",
    "    output_df[\"ml2_12\"] = output_df[\"ml2\"]\n",
    "    output_df[\"ml2_3\"] = output_df[\"ml2\"]\n",
    "    output_df[\"me2_3\"] = output_df[\"ml2\"]\n",
    "\n",
    "    # MSSM16atQ --> MSSM19atQ\n",
    "    output_df[\"md2_12\"] = output_df[\"mq2_12\"]\n",
    "    output_df[\"mu2_12\"] = output_df[\"mq2_12\"]\n",
    "    output_df[\"me2_12\"] = output_df[\"ml2_12\"]\n",
    "\n",
    "    # delete everything not nessecary for mssm19\n",
    "    del output_df[\"mf2\"]\n",
    "    del output_df[\"ml2\"]\n",
    "    del output_df[\"mq2\"]\n",
    "\n",
    "    return output_df\n",
    "\n"
   ]
  },
  {
   "cell_type": "code",
   "execution_count": 6,
   "id": "bfbe5b2d",
   "metadata": {},
   "outputs": [
    {
     "name": "stdout",
     "output_type": "stream",
     "text": [
      "Qin: 1000\n",
      "SignMu: 1\n",
      "TanBeta: [3, 70]\n",
      "mHu2: [-3000000.0, 1000]\n",
      "mHd2: [-1000, 3000000.0]\n",
      "M2: [-10000.0, 10000.0]\n",
      "Ad_3: [-10000.0, 10000.0]\n",
      "Au_3: [-10000.0, 10000.0]\n",
      "M1: [-5079.042230471103, 5079.042230471103]\n",
      "M3: [-35293.80173727817, 35293.80173727817]\n",
      "Ae_3: 0\n",
      "mq2_12: [0, 10000000.0]\n",
      "mq2_3: [0, 10000000.0]\n",
      "mu2_12: [0, 10000000.0]\n",
      "md2_12: [0, 10000000.0]\n",
      "ml2_12: [0, 10000000.0]\n",
      "ml2_3: [0, 10000000.0]\n",
      "me2_3: [0, 10000000.0]\n",
      "me2_12: [0, 10000000.0]\n"
     ]
    }
   ],
   "source": [
    "mssm19 = convert_model(mssm7)\n",
    "print_df(mssm19)"
   ]
  },
  {
   "cell_type": "code",
   "execution_count": null,
   "id": "a4f796ee",
   "metadata": {},
   "outputs": [],
   "source": []
  }
 ],
 "metadata": {
  "kernelspec": {
   "display_name": ".venv",
   "language": "python",
   "name": "python3"
  },
  "language_info": {
   "codemirror_mode": {
    "name": "ipython",
    "version": 3
   },
   "file_extension": ".py",
   "mimetype": "text/x-python",
   "name": "python",
   "nbconvert_exporter": "python",
   "pygments_lexer": "ipython3",
   "version": "3.12.3"
  }
 },
 "nbformat": 4,
 "nbformat_minor": 5
}
