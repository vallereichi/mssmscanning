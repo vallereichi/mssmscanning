{
 "cells": [
  {
   "cell_type": "code",
   "execution_count": 1,
   "id": "dc879808",
   "metadata": {},
   "outputs": [],
   "source": [
    "import numpy as np\n",
    "import matplotlib.pyplot as plt"
   ]
  },
  {
   "cell_type": "markdown",
   "id": "205ab48e",
   "metadata": {},
   "source": [
    "# Priors\n",
    "\n",
    "most priors implemented in ScannerBit draw from the unit interval [0,1]. Here a random deviate $x$ from the unit interval gets transformed into arandom deviate $y$ from the target distribution $D$ via the cumulative distribution function (CDF)\n",
    "\n",
    "$$y = F^{-1}(x)$$\n",
    "\n",
    "## flat prior\n",
    "\n",
    "sampling over the parameter range [a,b] by drawing a random value from the unit interval and then performing the transormation according to the CDF\n",
    "\n",
    "$$F(y) = \\int^y_a P(x) dx= \\int^y_a \\frac{dx}{b-a} = \\frac{y-a}{b-a}$$\n",
    "\n",
    "with the uniform distribution over [a,b] being\n",
    "\n",
    "$$P(x) = \\frac{1}{b-a}$$\n",
    "\n",
    "This in turn leads leads to a sampled parameter\n",
    "\n",
    "$$ y = F^{-1}(x) = (b-a)x + a$$\n",
    "\n",
    "## double log flat join prior\n",
    "\n",
    "The sampling distrbution looks like\n",
    "\n",
    "$$P(x) \\propto \\begin{cases}\n",
    "    1/|x| & \\mathrm{lower} < x < \\mathrm{flat_start} \\\\\n",
    "    const & \\mathrm{flat_start} \\leq x \\leq \\mathrm{flat_end} \\\\\n",
    "    1/x   & \\mathrm{flat_end} < x < \\mathrm{upper} \\\\\n",
    "    \\end{cases}\n",
    "    $$\n",
    "\n",
    "Therefore the Transformation is given by\n",
    "\n",
    "$$F(y) = \\int^y_a P(y) = \\begin{cases}\n",
    "    sgn(x)log(x) & \\mathrm{lower} < x < \\mathrm{flat_start} \\\\\n",
    "    const \\cdot\n",
    "    $$\n",
    "\n"
   ]
  },
  {
   "cell_type": "code",
   "execution_count": null,
   "id": "c7fc6813",
   "metadata": {},
   "outputs": [],
   "source": []
  }
 ],
 "metadata": {
  "kernelspec": {
   "display_name": ".venv",
   "language": "python",
   "name": "python3"
  },
  "language_info": {
   "codemirror_mode": {
    "name": "ipython",
    "version": 3
   },
   "file_extension": ".py",
   "mimetype": "text/x-python",
   "name": "python",
   "nbconvert_exporter": "python",
   "pygments_lexer": "ipython3",
   "version": "3.12.3"
  }
 },
 "nbformat": 4,
 "nbformat_minor": 5
}
